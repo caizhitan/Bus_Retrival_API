{
 "cells": [
  {
   "cell_type": "markdown",
   "metadata": {},
   "source": [
    "# Getting Started"
   ]
  },
  {
   "cell_type": "markdown",
   "metadata": {},
   "source": [
    "## Import Libraries"
   ]
  },
  {
   "cell_type": "code",
   "execution_count": 28,
   "metadata": {},
   "outputs": [],
   "source": [
    "import boto3\n",
    "import pandas as pd\n",
    "import numpy as np\n",
    "from io import BytesIO\n",
    "import matplotlib.pyplot as plt\n",
    "import matplotlib.ticker as ticker"
   ]
  },
  {
   "cell_type": "code",
   "execution_count": 29,
   "metadata": {},
   "outputs": [],
   "source": [
    "# For OneMap Account Key\n",
    "from dotenv import load_dotenv\n",
    "import os\n",
    "load_dotenv()\n",
    "account_key = os.getenv('ONEMAP_KEY')"
   ]
  },
  {
   "cell_type": "markdown",
   "metadata": {},
   "source": [
    "### Starting our AWS Session"
   ]
  },
  {
   "cell_type": "code",
   "execution_count": 30,
   "metadata": {},
   "outputs": [],
   "source": [
    "session = boto3.Session(profile_name='personal-ltadatamall')\n",
    "s3 = session.resource('s3')"
   ]
  },
  {
   "cell_type": "markdown",
   "metadata": {},
   "source": [
    "## Import Dataset from AWS S3"
   ]
  },
  {
   "cell_type": "code",
   "execution_count": 31,
   "metadata": {},
   "outputs": [
    {
     "name": "stdout",
     "output_type": "stream",
     "text": [
      "                 DATETIME  DAY_TYPE            PT_NAME  TRAIN_LINES  \\\n",
      "0     2023-08-31 22:00:00         0  Marina South Pier            1   \n",
      "1     2023-08-31 22:00:00         1  Marina South Pier            1   \n",
      "2     2023-08-31 00:00:00         1            Stevens            2   \n",
      "3     2023-08-31 00:00:00         0            Stevens            2   \n",
      "4     2023-08-31 10:00:00         0        Outram Park            3   \n",
      "...                   ...       ...                ...          ...   \n",
      "40900 2024-01-31 06:00:00         0          Bendemeer            1   \n",
      "40901 2024-01-31 07:00:00         1         Marina Bay            3   \n",
      "40902 2024-01-31 07:00:00         0         Marina Bay            3   \n",
      "40903 2024-01-31 12:00:00         0           Ranggung            1   \n",
      "40904 2024-01-31 12:00:00         1           Ranggung            1   \n",
      "\n",
      "      TRAIN_CODES        PT_CODE  PT_LATITUDE  PT_LONGITUDE  \\\n",
      "0             [1]           NS28     1.271422    103.863581   \n",
      "1             [1]           NS28     1.271422    103.863581   \n",
      "2          [4, 5]      DT10/TE11     1.320012    103.825964   \n",
      "3          [4, 5]      DT10/TE11     1.320012    103.825964   \n",
      "4       [0, 2, 5]  EW16/NE3/TE17     1.280319    103.839459   \n",
      "...           ...            ...          ...           ...   \n",
      "40900         [4]           DT23     1.313674    103.863098   \n",
      "40901   [1, 3, 5]  NS27/CE2/TE20     1.276481    103.854598   \n",
      "40902   [1, 3, 5]  NS27/CE2/TE20     1.276481    103.854598   \n",
      "40903         [7]            SE5     1.384116    103.897386   \n",
      "40904         [7]            SE5     1.384116    103.897386   \n",
      "\n",
      "       TOTAL_TAP_IN_VOLUME  TOTAL_TAP_OUT_VOLUME  \n",
      "0                      752                   311  \n",
      "1                      612                   223  \n",
      "2                       37                   242  \n",
      "3                       86                   445  \n",
      "4                    28179                 39454  \n",
      "...                    ...                   ...  \n",
      "40900                 2182                  3164  \n",
      "40901                  538                   862  \n",
      "40902                 1161                  8565  \n",
      "40903                 3546                  2021  \n",
      "40904                 2062                  1171  \n",
      "\n",
      "[40905 rows x 10 columns]\n",
      "                   DATETIME  DAY_TYPE ORIGIN_PT_NAME  ORIGIN_TRAIN_LINES  \\\n",
      "0       2023-08-31 13:00:00         0      Woodleigh                   1   \n",
      "1       2023-08-31 13:00:00         1      Toa Payoh                   1   \n",
      "2       2023-08-31 13:00:00         0      Toa Payoh                   1   \n",
      "3       2023-08-31 13:00:00         1      Woodleigh                   1   \n",
      "4       2023-08-31 14:00:00         1      Promenade                   2   \n",
      "...                     ...       ...            ...                 ...   \n",
      "4821664 2024-01-31 10:00:00         1    Bukit Batok                   1   \n",
      "4821665 2024-01-31 22:00:00         0       Downtown                   1   \n",
      "4821666 2024-01-31 22:00:00         1    Buona Vista                   2   \n",
      "4821667 2024-01-31 22:00:00         0    Buona Vista                   2   \n",
      "4821668 2024-01-31 22:00:00         1       Downtown                   1   \n",
      "\n",
      "        ORIGIN_TRAIN_CODES ORIGIN_PT_CODE  ORIGIN_PT_LATITUDE  \\\n",
      "0                      [2]           NE11            1.339202   \n",
      "1                      [1]           NS19            1.332405   \n",
      "2                      [1]           NS19            1.332405   \n",
      "3                      [2]           NE11            1.339202   \n",
      "4                   [3, 4]       CC4/DT15            1.294063   \n",
      "...                    ...            ...                 ...   \n",
      "4821664                [1]            NS2            1.349069   \n",
      "4821665                [4]           DT17            1.279490   \n",
      "4821666             [0, 3]      EW21/CC22            1.307337   \n",
      "4821667             [0, 3]      EW21/CC22            1.307337   \n",
      "4821668                [4]           DT17            1.279490   \n",
      "\n",
      "         ORIGIN_PT_LONGITUDE DESTINATION_PT_NAME  DESTINATION_TRAIN_LINES  \\\n",
      "0                 103.870727           Toa Payoh                        1   \n",
      "1                 103.847436           Woodleigh                        1   \n",
      "2                 103.847436           Woodleigh                        1   \n",
      "3                 103.870727           Toa Payoh                        1   \n",
      "4                 103.860156           Marsiling                        1   \n",
      "...                      ...                 ...                      ...   \n",
      "4821664           103.749596              Napier                        1   \n",
      "4821665           103.852802         Buona Vista                        2   \n",
      "4821666           103.790046            Downtown                        1   \n",
      "4821667           103.790046            Downtown                        1   \n",
      "4821668           103.852802         Buona Vista                        2   \n",
      "\n",
      "        DESTINATION_TRAIN_CODES DESTINATION_PT_CODE  DESTINATION_PT_LATITUDE  \\\n",
      "0                           [1]                NS19                 1.339202   \n",
      "1                           [2]                NE11                 1.332405   \n",
      "2                           [2]                NE11                 1.332405   \n",
      "3                           [1]                NS19                 1.339202   \n",
      "4                           [1]                 NS8                 1.294063   \n",
      "...                         ...                 ...                      ...   \n",
      "4821664                     [5]                TE12                 1.349069   \n",
      "4821665                  [0, 3]           EW21/CC22                 1.279490   \n",
      "4821666                     [4]                DT17                 1.307337   \n",
      "4821667                     [4]                DT17                 1.307337   \n",
      "4821668                  [0, 3]           EW21/CC22                 1.279490   \n",
      "\n",
      "         DESTINATION_PT_LONGITUDE  TOTAL_TRIPS  \n",
      "0                      103.870727           36  \n",
      "1                      103.847436           11  \n",
      "2                      103.847436           25  \n",
      "3                      103.870727           17  \n",
      "4                      103.860156            2  \n",
      "...                           ...          ...  \n",
      "4821664                103.749596            5  \n",
      "4821665                103.852802            8  \n",
      "4821666                103.790046            4  \n",
      "4821667                103.790046            1  \n",
      "4821668                103.852802            1  \n",
      "\n",
      "[4821669 rows x 15 columns]\n"
     ]
    }
   ],
   "source": [
    "# From AWS S3\n",
    "dfCombinedFirst = pd.read_parquet(BytesIO(s3.Object('ltadatamall', 'TrainVolume_ProcessedData/Data.parquet').get()['Body'].read()))\n",
    "dfCombinedSecond = pd.read_parquet(BytesIO(s3.Object('ltadatamall', 'TrainVolumeOrigin_ProcessedData/Data.parquet').get()['Body'].read()))\n",
    "\n",
    "\n",
    "print(dfCombinedFirst)\n",
    "print(dfCombinedSecond)\n",
    "\n"
   ]
  },
  {
   "cell_type": "markdown",
   "metadata": {},
   "source": [
    "## Defining Functions"
   ]
  },
  {
   "cell_type": "code",
   "execution_count": 43,
   "metadata": {},
   "outputs": [],
   "source": [
    "def weekdayOrWeeekend(value):\n",
    "    if (value == 0):\n",
    "        return \"Weekday\"\n",
    "    else:\n",
    "        return \"Weekend/Holiday\"\n",
    "    \n",
    "def trainLines(values):\n",
    "    line_map = {\n",
    "        '0': \"East-West Line\",\n",
    "        '1': \"North-South Line\",\n",
    "        '2': \"North-East Line\",\n",
    "        '3': \"Circle Line\",\n",
    "        '4': \"Downtown Line\",\n",
    "        '5': \"Thomson-East Coast Line\",\n",
    "        '6': \"Bukit Panjang LRT\",\n",
    "        '7': \"Sengkang LRT\",\n",
    "        '8': \"Punggol LRT\"\n",
    "    }\n",
    "    return [line_map[str(value)] for value in values if str(value) in line_map]\n",
    "\n",
    "\n",
    "   "
   ]
  },
  {
   "cell_type": "markdown",
   "metadata": {},
   "source": [
    "## Analyzing our data"
   ]
  },
  {
   "cell_type": "markdown",
   "metadata": {},
   "source": [
    "## Finding out the most tapped in location"
   ]
  },
  {
   "cell_type": "code",
   "execution_count": 44,
   "metadata": {},
   "outputs": [
    {
     "name": "stdout",
     "output_type": "stream",
     "text": [
      "390282\n",
      "2024-01-31 18:00:00\n",
      "Raffles Place\n",
      "['East-West Line', 'North-South Line']\n",
      "Weekday\n"
     ]
    }
   ],
   "source": [
    "highestTapInValue = dfCombinedFirst['TOTAL_TAP_IN_VOLUME'].max()\n",
    "highestTapInLocation = dfCombinedFirst.loc[dfCombinedFirst['TOTAL_TAP_IN_VOLUME'].idxmax(), 'PT_NAME']\n",
    "highestTapInTime = dfCombinedFirst.loc[dfCombinedFirst['TOTAL_TAP_IN_VOLUME'].idxmax(), 'DATETIME']\n",
    "trainLinesList = dfCombinedFirst.loc[dfCombinedFirst['TOTAL_TAP_IN_VOLUME'].idxmax(), 'TRAIN_CODES']\n",
    "dayOfWeek = dfCombinedFirst.loc[dfCombinedFirst['TOTAL_TAP_IN_VOLUME'].idxmax(), 'DAY_TYPE']\n",
    "\n",
    "print(highestTapInValue)\n",
    "print(highestTapInTime)\n",
    "print(highestTapInLocation)\n",
    "print(trainLines(trainLinesList))\n",
    "print(weekdayOrWeeekend(dayOfWeek))"
   ]
  },
  {
   "cell_type": "markdown",
   "metadata": {},
   "source": [
    "## Finding out the most tapped out location"
   ]
  },
  {
   "cell_type": "code",
   "execution_count": 45,
   "metadata": {},
   "outputs": [
    {
     "name": "stdout",
     "output_type": "stream",
     "text": [
      "365071\n",
      "2024-01-31 08:00:00\n",
      "Raffles Place\n",
      "['East-West Line', 'North-South Line']\n",
      "Weekday\n"
     ]
    }
   ],
   "source": [
    "highestTapOutValue = dfCombinedFirst['TOTAL_TAP_OUT_VOLUME'].max()\n",
    "highestTapOutTime = dfCombinedFirst.loc[dfCombinedFirst['TOTAL_TAP_OUT_VOLUME'].idxmax(), 'DATETIME']\n",
    "highestTapOutLocation = dfCombinedFirst.loc[dfCombinedFirst['TOTAL_TAP_OUT_VOLUME'].idxmax(), 'PT_NAME']\n",
    "trainLinesList = dfCombinedFirst.loc[dfCombinedFirst['TOTAL_TAP_OUT_VOLUME'].idxmax(), 'TRAIN_CODES']\n",
    "dayOfWeek = dfCombinedFirst.loc[dfCombinedFirst['TOTAL_TAP_OUT_VOLUME'].idxmax(), 'DAY_TYPE']\n",
    "\n",
    "print(highestTapOutValue)\n",
    "print(highestTapOutTime)\n",
    "print(highestTapOutLocation)\n",
    "print(trainLines(trainLinesList))\n",
    "print(weekdayOrWeeekend(dayOfWeek))"
   ]
  },
  {
   "cell_type": "markdown",
   "metadata": {},
   "source": [
    "## Plotting our first bar graph"
   ]
  },
  {
   "cell_type": "code",
   "execution_count": 46,
   "metadata": {},
   "outputs": [
    {
     "name": "stdout",
     "output_type": "stream",
     "text": [
      "Total Tap In Count in August on Weekdays: 1343955\n",
      "Total Tap In Count in August on Weekdays: 190684\n"
     ]
    }
   ],
   "source": [
    "# Convert our column back to datetime format\n",
    "dfCombinedFirst['DATETIME'] = pd.to_datetime(dfCombinedFirst['DATETIME'])\n",
    "\n",
    "# Finding sum of tap ins in August on Weekdays\n",
    "df_Raffles_Aug0 = dfCombinedFirst[(dfCombinedFirst['PT_NAME'] == 'Raffles Place') & (dfCombinedFirst['DAY_TYPE'] == 0) & (dfCombinedFirst['DATETIME'].dt.date == pd.to_datetime('2023-08-31').date())]\n",
    "sumOfTapInWeekday = df_Raffles_Aug0['TOTAL_TAP_IN_VOLUME'].sum()\n",
    "\n",
    "# Finding sum of tap ins in August on Weekends/Holidays\n",
    "df_Raffles_Aug1 = dfCombinedFirst[(dfCombinedFirst['PT_NAME'] == 'Raffles Place') & (dfCombinedFirst['DAY_TYPE'] == 1) & (dfCombinedFirst['DATETIME'].dt.date == pd.to_datetime('2023-08-31').date())]\n",
    "sumOfTapInWeekend = df_Raffles_Aug1['TOTAL_TAP_IN_VOLUME'].sum()\n",
    "\n",
    "print(\"Total Tap In Count in August on Weekdays:\", sumOfTapInWeekday)\n",
    "print(\"Total Tap In Count in August on Weekdays:\", sumOfTapInWeekend)"
   ]
  },
  {
   "cell_type": "code",
   "execution_count": 47,
   "metadata": {},
   "outputs": [
    {
     "data": {
      "image/png": "[encoded data removed]",
      "text/plain": [
       "<Figure size 640x480 with 1 Axes>"
      ]
     },
     "metadata": {},
     "output_type": "display_data"
    }
   ],
   "source": [
    "# Data for plotting\n",
    "categories = ['Weekdays', 'Weekends/Holidays']\n",
    "values = [sumOfTapInWeekday, sumOfTapInWeekend]\n",
    "\n",
    "def create_bargraph():\n",
    "# Plotting the bar graph\n",
    "    plt.bar(categories, values)\n",
    "\n",
    "    # Adding title and labels\n",
    "    plt.title('Total Tap-In Counts at Raffles Place in August')\n",
    "    plt.ylabel('Total Tap-In Volume')\n",
    "\n",
    "    # Plotting the graph\n",
    "    plt.gca().yaxis.set_major_formatter(ticker.FuncFormatter(lambda x, _: '{:,.0f}'.format(x)))\n",
    "    plt.show()\n",
    "\n",
    "with plt.style.context(\"ggplot\"):\n",
    "    create_bargraph()"
   ]
  },
  {
   "cell_type": "code",
   "execution_count": 48,
   "metadata": {},
   "outputs": [
    {
     "name": "stdout",
     "output_type": "stream",
     "text": [
      "Total Tap In Count in August on Weekdays: 983730\n",
      "Total Tap In Count in August on Weekdays: 305830\n"
     ]
    }
   ],
   "source": [
    "# Convert our column back to datetime format\n",
    "dfCombinedFirst['DATETIME'] = pd.to_datetime(dfCombinedFirst['DATETIME'])\n",
    "\n",
    "# Finding sum of tap ins in August on Weekdays\n",
    "df_Raffles_Aug0 = dfCombinedFirst[(dfCombinedFirst['PT_NAME'] == 'Bishan') & (dfCombinedFirst['DAY_TYPE'] == 0) & (dfCombinedFirst['DATETIME'].dt.date == pd.to_datetime('2023-08-31').date())]\n",
    "sumOfTapInWeekday = df_Raffles_Aug0['TOTAL_TAP_IN_VOLUME'].sum()\n",
    "\n",
    "# Finding sum of tap ins in August on Weekends/Holidays\n",
    "df_Raffles_Aug1 = dfCombinedFirst[(dfCombinedFirst['PT_NAME'] == 'Bishan') & (dfCombinedFirst['DAY_TYPE'] == 1) & (dfCombinedFirst['DATETIME'].dt.date == pd.to_datetime('2023-08-31').date())]\n",
    "sumOfTapInWeekend = df_Raffles_Aug1['TOTAL_TAP_IN_VOLUME'].sum()\n",
    "\n",
    "print(\"Total Tap In Count in August on Weekdays:\", sumOfTapInWeekday)\n",
    "print(\"Total Tap In Count in August on Weekdays:\", sumOfTapInWeekend)"
   ]
  },
  {
   "cell_type": "code",
   "execution_count": null,
   "metadata": {},
   "outputs": [],
   "source": []
  },
  {
   "cell_type": "code",
   "execution_count": null,
   "metadata": {},
   "outputs": [],
   "source": []
  }
 ],
 "metadata": {
  "kernelspec": {
   "display_name": "Python 3",
   "language": "python",
   "name": "python3"
  },
  "language_info": {
   "codemirror_mode": {
    "name": "ipython",
    "version": 3
   },
   "file_extension": ".py",
   "mimetype": "text/x-python",
   "name": "python",
   "nbconvert_exporter": "python",
   "pygments_lexer": "ipython3",
   "version": "3.11.3"
  }
 },
 "nbformat": 4,
 "nbformat_minor": 2
}
