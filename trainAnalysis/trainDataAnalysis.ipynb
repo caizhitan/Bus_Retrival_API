{
 "cells": [
  {
   "cell_type": "markdown",
   "metadata": {},
   "source": [
    "# Getting Started"
   ]
  },
  {
   "cell_type": "markdown",
   "metadata": {},
   "source": [
    "## Import Libraries"
   ]
  },
  {
   "cell_type": "code",
   "execution_count": 3,
   "metadata": {},
   "outputs": [],
   "source": [
    "import pandas as pd\n",
    "import numpy as np\n",
    "import matplotlib.pyplot as plt\n",
    "import matplotlib.ticker as ticker"
   ]
  },
  {
   "cell_type": "code",
   "execution_count": 4,
   "metadata": {},
   "outputs": [
    {
     "name": "stdout",
     "output_type": "stream",
     "text": [
      "                  DATETIME  DAY_TYPE            PT_NAME  TRAIN_LINES  \\\n",
      "0      2023-08-31 22:00:00         0  Marina South Pier            1   \n",
      "1      2023-08-31 22:00:00         1  Marina South Pier            1   \n",
      "2      2023-08-31 00:00:00         1            Stevens            2   \n",
      "3      2023-08-31 00:00:00         0            Stevens            2   \n",
      "4      2023-08-31 10:00:00         0        Outram Park            3   \n",
      "...                    ...       ...                ...          ...   \n",
      "20456  2023-10-31 06:00:00         1          Bendemeer            1   \n",
      "20457  2023-10-31 07:00:00         1         Marina Bay            3   \n",
      "20458  2023-10-31 07:00:00         0         Marina Bay            3   \n",
      "20459  2023-10-31 12:00:00         0           Ranggung            1   \n",
      "20460  2023-10-31 12:00:00         1           Ranggung            1   \n",
      "\n",
      "      TRAIN_CODES        PT_CODE  PT_LATITUDE  PT_LONGITUDE  \\\n",
      "0             [1]           NS28     1.271422    103.863581   \n",
      "1             [1]           NS28     1.271422    103.863581   \n",
      "2          [4, 5]      DT10/TE11     1.320012    103.825964   \n",
      "3          [4, 5]      DT10/TE11     1.320012    103.825964   \n",
      "4       [0, 2, 5]  EW16/NE3/TE17     1.280319    103.839459   \n",
      "...           ...            ...          ...           ...   \n",
      "20456         [4]           DT23     1.313674    103.863098   \n",
      "20457   [1, 3, 5]  NS27/CE2/TE20     1.276481    103.854598   \n",
      "20458   [1, 3, 5]  NS27/CE2/TE20     1.276481    103.854598   \n",
      "20459         [7]            SE5     1.384116    103.897386   \n",
      "20460         [7]            SE5     1.384116    103.897386   \n",
      "\n",
      "       TOTAL_TAP_IN_VOLUME  TOTAL_TAP_OUT_VOLUME  \n",
      "0                      752                   311  \n",
      "1                      612                   223  \n",
      "2                       37                   242  \n",
      "3                       86                   445  \n",
      "4                    28179                 39454  \n",
      "...                    ...                   ...  \n",
      "20456                  482                   393  \n",
      "20457                  392                   765  \n",
      "20458                 1196                  8911  \n",
      "20459                 5001                  2533  \n",
      "20460                 1763                  1030  \n",
      "\n",
      "[20461 rows x 10 columns]\n",
      "                    DATETIME  DAY_TYPE ORIGIN_PT_NAME  ORIGIN_TRAIN_LINES  \\\n",
      "0        2023-08-31 13:00:00         0      Woodleigh                   1   \n",
      "1        2023-08-31 13:00:00         1      Toa Payoh                   1   \n",
      "2        2023-08-31 13:00:00         0      Toa Payoh                   1   \n",
      "3        2023-08-31 13:00:00         1      Woodleigh                   1   \n",
      "4        2023-08-31 14:00:00         1      Promenade                   2   \n",
      "...                      ...       ...            ...                 ...   \n",
      "2415928  2023-10-31 10:00:00         1    Bukit Batok                   1   \n",
      "2415929  2023-10-31 10:00:00         0         Napier                   1   \n",
      "2415930  2023-10-31 22:00:00         1       Downtown                   1   \n",
      "2415931  2023-10-31 22:00:00         0    Buona Vista                   2   \n",
      "2415932  2023-10-31 22:00:00         0       Downtown                   1   \n",
      "\n",
      "        ORIGIN_TRAIN_CODES ORIGIN_PT_CODE  ORIGIN_PT_LATITUDE  \\\n",
      "0                      [2]           NE11            1.339202   \n",
      "1                      [1]           NS19            1.332405   \n",
      "2                      [1]           NS19            1.332405   \n",
      "3                      [2]           NE11            1.339202   \n",
      "4                   [3, 4]       CC4/DT15            1.294063   \n",
      "...                    ...            ...                 ...   \n",
      "2415928                [1]            NS2            1.349069   \n",
      "2415929                [5]           TE12            1.306944   \n",
      "2415930                [4]           DT17            1.279490   \n",
      "2415931             [0, 3]      EW21/CC22            1.307337   \n",
      "2415932                [4]           DT17            1.279490   \n",
      "\n",
      "         ORIGIN_PT_LONGITUDE DESTINATION_PT_NAME  DESTINATION_TRAIN_LINES  \\\n",
      "0                 103.870727           Toa Payoh                        1   \n",
      "1                 103.847436           Woodleigh                        1   \n",
      "2                 103.847436           Woodleigh                        1   \n",
      "3                 103.870727           Toa Payoh                        1   \n",
      "4                 103.860156           Marsiling                        1   \n",
      "...                      ...                 ...                      ...   \n",
      "2415928           103.749596              Napier                        1   \n",
      "2415929           103.819167         Bukit Batok                        1   \n",
      "2415930           103.852802         Buona Vista                        2   \n",
      "2415931           103.790046            Downtown                        1   \n",
      "2415932           103.852802         Buona Vista                        2   \n",
      "\n",
      "        DESTINATION_TRAIN_CODES DESTINATION_PT_CODE  DESTINATION_PT_LATITUDE  \\\n",
      "0                           [1]                NS19                 1.339202   \n",
      "1                           [2]                NE11                 1.332405   \n",
      "2                           [2]                NE11                 1.332405   \n",
      "3                           [1]                NS19                 1.339202   \n",
      "4                           [1]                 NS8                 1.294063   \n",
      "...                         ...                 ...                      ...   \n",
      "2415928                     [5]                TE12                 1.349069   \n",
      "2415929                     [1]                 NS2                 1.306944   \n",
      "2415930                  [0, 3]           EW21/CC22                 1.279490   \n",
      "2415931                     [4]                DT17                 1.307337   \n",
      "2415932                  [0, 3]           EW21/CC22                 1.279490   \n",
      "\n",
      "         DESTINATION_PT_LONGITUDE  TOTAL_TRIPS  \n",
      "0                      103.870727           36  \n",
      "1                      103.847436           11  \n",
      "2                      103.847436           25  \n",
      "3                      103.870727           17  \n",
      "4                      103.860156            2  \n",
      "...                           ...          ...  \n",
      "2415928                103.749596            2  \n",
      "2415929                103.819167            8  \n",
      "2415930                103.852802            2  \n",
      "2415931                103.790046            3  \n",
      "2415932                103.852802            4  \n",
      "\n",
      "[2415933 rows x 15 columns]\n"
     ]
    }
   ],
   "source": [
    "firstData = './outputdatasets/trainStationData1.csv'\n",
    "secondData = './outputDatasets/trainStationData2.csv'\n",
    "\n",
    "\n",
    "dfCombinedFirst = pd.read_csv(firstData)\n",
    "dfCombinedSecond = pd.read_csv(secondData)\n",
    "\n",
    "\n",
    "print(dfCombinedFirst)\n",
    "print(dfCombinedSecond)\n"
   ]
  },
  {
   "cell_type": "markdown",
   "metadata": {},
   "source": [
    "# Defining Functions"
   ]
  },
  {
   "cell_type": "code",
   "execution_count": 5,
   "metadata": {},
   "outputs": [],
   "source": [
    "def weekdayOrWeeekend(value):\n",
    "    if (value == 0):\n",
    "        return \"Weekday\"\n",
    "    else:\n",
    "        return \"Weekend/Holiday\"\n",
    "    \n",
    "def trainLines(values):\n",
    "    line_names = []\n",
    "    for value in values:\n",
    "        if value == '0':\n",
    "            line_names.append(\"East-West Line\")\n",
    "        elif value == '1':\n",
    "            line_names.append(\"North-South Line\")\n",
    "        elif value == '2':\n",
    "            line_names.append(\"North-East Line\")\n",
    "        elif value == '3':\n",
    "            line_names.append(\"Circle Line\")\n",
    "        elif value == '4':\n",
    "            line_names.append(\"Downtown Line\")\n",
    "        elif value == '5':\n",
    "            line_names.append(\"Thomson-East Coast Line\")\n",
    "        elif value == '6':\n",
    "            line_names.append(\"Bukit Panjang LRT\")\n",
    "        elif value == '7':\n",
    "            line_names.append(\"Sengkang LRT\")\n",
    "        elif value == '8':\n",
    "            line_names.append(\"Punggol LRT\")\n",
    "    return line_names\n",
    "\n",
    "   "
   ]
  },
  {
   "cell_type": "markdown",
   "metadata": {},
   "source": [
    "## Analyzing our data"
   ]
  },
  {
   "cell_type": "markdown",
   "metadata": {},
   "source": [
    "## Finding out the most tapped in location"
   ]
  },
  {
   "cell_type": "code",
   "execution_count": 6,
   "metadata": {},
   "outputs": [
    {
     "name": "stdout",
     "output_type": "stream",
     "text": [
      "374036\n",
      "2023-08-31 18:00:00\n",
      "Raffles Place\n",
      "['East-West Line', 'North-South Line']\n",
      "Weekday\n"
     ]
    }
   ],
   "source": [
    "highestTapInValue = dfCombinedFirst['TOTAL_TAP_IN_VOLUME'].max()\n",
    "highestTapInLocation = dfCombinedFirst.loc[dfCombinedFirst['TOTAL_TAP_IN_VOLUME'].idxmax(), 'PT_NAME']\n",
    "highestTapInTime = dfCombinedFirst.loc[dfCombinedFirst['TOTAL_TAP_IN_VOLUME'].idxmax(), 'DATETIME']\n",
    "trainLinesList = dfCombinedFirst.loc[dfCombinedFirst['TOTAL_TAP_IN_VOLUME'].idxmax(), 'TRAIN_CODES']\n",
    "dayOfWeek = dfCombinedFirst.loc[dfCombinedFirst['TOTAL_TAP_IN_VOLUME'].idxmax(), 'DAY_TYPE']\n",
    "\n",
    "print(highestTapInValue)\n",
    "print(highestTapInTime)\n",
    "print(highestTapInLocation)\n",
    "print(trainLines(trainLinesList))\n",
    "print(weekdayOrWeeekend(dayOfWeek))"
   ]
  },
  {
   "cell_type": "markdown",
   "metadata": {},
   "source": [
    "## Finding out the most tapped out location"
   ]
  },
  {
   "cell_type": "code",
   "execution_count": 7,
   "metadata": {},
   "outputs": [
    {
     "name": "stdout",
     "output_type": "stream",
     "text": [
      "363224\n",
      "2023-08-31 08:00:00\n",
      "Raffles Place\n",
      "['East-West Line', 'North-South Line']\n",
      "Weekday\n"
     ]
    }
   ],
   "source": [
    "highestTapOutValue = dfCombinedFirst['TOTAL_TAP_OUT_VOLUME'].max()\n",
    "highestTapOutTime = dfCombinedFirst.loc[dfCombinedFirst['TOTAL_TAP_OUT_VOLUME'].idxmax(), 'DATETIME']\n",
    "highestTapOutLocation = dfCombinedFirst.loc[dfCombinedFirst['TOTAL_TAP_OUT_VOLUME'].idxmax(), 'PT_NAME']\n",
    "trainLinesList = dfCombinedFirst.loc[dfCombinedFirst['TOTAL_TAP_OUT_VOLUME'].idxmax(), 'TRAIN_CODES']\n",
    "dayOfWeek = dfCombinedFirst.loc[dfCombinedFirst['TOTAL_TAP_OUT_VOLUME'].idxmax(), 'DAY_TYPE']\n",
    "\n",
    "print(highestTapOutValue)\n",
    "print(highestTapOutTime)\n",
    "print(highestTapOutLocation)\n",
    "print(trainLines(trainLinesList))\n",
    "print(weekdayOrWeeekend(dayOfWeek))"
   ]
  },
  {
   "cell_type": "markdown",
   "metadata": {},
   "source": [
    "## Plotting our first bar graph"
   ]
  },
  {
   "cell_type": "code",
   "execution_count": 6,
   "metadata": {},
   "outputs": [
    {
     "name": "stdout",
     "output_type": "stream",
     "text": [
      "Total Tap In Count in August on Weekdays: 1343955\n",
      "Total Tap In Count in August on Weekdays: 190684\n"
     ]
    }
   ],
   "source": [
    "# Convert our column back to datetime format\n",
    "dfCombinedFirst['DATETIME'] = pd.to_datetime(dfCombinedFirst['DATETIME'])\n",
    "\n",
    "# Finding sum of tap ins in August on Weekdays\n",
    "dfFiltered = dfCombinedFirst[(dfCombinedFirst['PT_NAME'] == 'Raffles Place') & (dfCombinedFirst['DAY_TYPE'] == 0) & (dfCombinedFirst['DATETIME'].dt.date == pd.to_datetime('2023-08-31').date())]\n",
    "sumOfTapInWeekday = dfFiltered['TOTAL_TAP_IN_VOLUME'].sum()\n",
    "\n",
    "# Finding sum of tap ins in August on Weekends/Holidays\n",
    "dfFiltered1 = dfCombinedFirst[(dfCombinedFirst['PT_NAME'] == 'Raffles Place') & (dfCombinedFirst['DAY_TYPE'] == 1) & (dfCombinedFirst['DATETIME'].dt.date == pd.to_datetime('2023-08-31').date())]\n",
    "sumOfTapInWeekend = dfFiltered1['TOTAL_TAP_IN_VOLUME'].sum()\n",
    "\n",
    "print(\"Total Tap In Count in August on Weekdays:\", sumOfTapInWeekday)\n",
    "print(\"Total Tap In Count in August on Weekdays:\", sumOfTapInWeekend)"
   ]
  },
  {
   "cell_type": "code",
   "execution_count": 31,
   "metadata": {},
   "outputs": [
    {
     "data": {
      "image/png": "[encoded data removed]",
      "text/plain": [
       "<Figure size 640x480 with 1 Axes>"
      ]
     },
     "metadata": {},
     "output_type": "display_data"
    }
   ],
   "source": [
    "# Data for plotting\n",
    "categories = ['Weekdays', 'Weekends/Holidays']\n",
    "values = [sumOfTapInWeekday, sumOfTapInWeekend]\n",
    "\n",
    "def create_bargraph():\n",
    "# Plotting the bar graph\n",
    "    plt.bar(categories, values)\n",
    "\n",
    "    # Adding title and labels\n",
    "    plt.title('Total Tap-In Counts at Raffles Place in August')\n",
    "    plt.ylabel('Total Tap-In Volume')\n",
    "\n",
    "    # Plotting the graph\n",
    "    plt.gca().yaxis.set_major_formatter(ticker.FuncFormatter(lambda x, _: '{:,.0f}'.format(x)))\n",
    "    plt.show()\n",
    "\n",
    "with plt.style.context(\"/tmp/rose-pine.mplstyle\"):\n",
    "    create_bargraph()"
   ]
  },
  {
   "cell_type": "code",
   "execution_count": null,
   "metadata": {},
   "outputs": [],
   "source": []
  }
 ],
 "metadata": {
  "kernelspec": {
   "display_name": "Python 3",
   "language": "python",
   "name": "python3"
  },
  "language_info": {
   "codemirror_mode": {
    "name": "ipython",
    "version": 3
   },
   "file_extension": ".py",
   "mimetype": "text/x-python",
   "name": "python",
   "nbconvert_exporter": "python",
   "pygments_lexer": "ipython3",
   "version": "3.11.3"
  }
 },
 "nbformat": 4,
 "nbformat_minor": 2
}
